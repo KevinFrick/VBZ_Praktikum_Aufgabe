{
 "cells": [
  {
   "cell_type": "code",
   "execution_count": 1,
   "metadata": {},
   "outputs": [],
   "source": [
    "%matplotlib inline"
   ]
  },
  {
   "cell_type": "markdown",
   "metadata": {},
   "source": [
    "## Aufgabe Praktikum Mobilitäts- und Datenanalyse VBZ\n",
    "### Kevin Frick\n",
    "### 13. Juni 2021"
   ]
  },
  {
   "cell_type": "markdown",
   "metadata": {},
   "source": [
    "Import der benötigten Packages"
   ]
  },
  {
   "cell_type": "code",
   "execution_count": 2,
   "metadata": {},
   "outputs": [],
   "source": [
    "import matplotlib.pyplot as plt\n",
    "import pandas as pd\n",
    "import ipywidgets as widgets\n",
    "import numpy as np\n",
    "from pandas.plotting import register_matplotlib_converters\n",
    "register_matplotlib_converters()\n",
    "import ipympl\n",
    "import datetime"
   ]
  },
  {
   "cell_type": "markdown",
   "metadata": {},
   "source": [
    "Der folgende Code stellt sicher, dass innerhalb der Plotfenster nicht gescrollt werden muss."
   ]
  },
  {
   "cell_type": "code",
   "execution_count": 3,
   "metadata": {},
   "outputs": [
    {
     "data": {
      "application/javascript": [
       "IPython.OutputArea.prototype._should_scroll = function(lines) {\n",
       "    return false;\n",
       "}\n"
      ],
      "text/plain": [
       "<IPython.core.display.Javascript object>"
      ]
     },
     "metadata": {},
     "output_type": "display_data"
    }
   ],
   "source": [
    "%%javascript\n",
    "IPython.OutputArea.prototype._should_scroll = function(lines) {\n",
    "    return false;\n",
    "}"
   ]
  },
  {
   "cell_type": "markdown",
   "metadata": {},
   "source": [
    "Import der Daten"
   ]
  },
  {
   "cell_type": "code",
   "execution_count": 4,
   "metadata": {},
   "outputs": [],
   "source": [
    "url = 'https://data.stadt-zuerich.ch/dataset/vbz_frequenzen_hardbruecke/download/'\n",
    "data_20 = pd.read_csv(url + 'frequenzen_hardbruecke_2020.csv')\n",
    "data_21 = pd.read_csv(url + 'frequenzen_hardbruecke_2021.csv')"
   ]
  },
  {
   "cell_type": "markdown",
   "metadata": {},
   "source": [
    "Um einen ersten Überblick über die Frequenze zu erhalten, werden die täglichen Pendlerstöme in beide Richtungen über den gesamten zur verfügung stehenden Zeitraum geplottet. Da die Daten aufgrund der Wochenenden eine stark periodisch sind, wir in einem zusätzlichen Tab der 7-Tage-Schnitt geplottet."
   ]
  },
  {
   "cell_type": "code",
   "execution_count": 5,
   "metadata": {},
   "outputs": [],
   "source": [
    "# Zusammenhängen der DataFrames und Konvertierung der Daten ins Timestamp Format\n",
    "data = pd.concat([data_20, data_21], axis = 'rows')\n",
    "data['Date_Time'] = pd.to_datetime(data.Timestamp)\n",
    "data = data.drop(columns = ['Timestamp'])\n",
    "\n",
    "# Erstellen der Tagessummen und des 7-Tage-Schnitts\n",
    "day = data.resample('D', on='Date_Time').sum()\n",
    "day_7dmean = day.rolling('7d').mean()"
   ]
  },
  {
   "cell_type": "code",
   "execution_count": 6,
   "metadata": {},
   "outputs": [
    {
     "data": {
      "application/vnd.jupyter.widget-view+json": {
       "model_id": "b507ff4ef93e480a99b1496259effea4",
       "version_major": 2,
       "version_minor": 0
      },
      "text/plain": [
       "Tab(children=(Output(), Output()), _titles={'0': 'Absolute Zahlen', '1': '7-Tage-Schnitt'})"
      ]
     },
     "metadata": {},
     "output_type": "display_data"
    }
   ],
   "source": [
    "# Plotten der Daten\n",
    "out1 = widgets.Output()\n",
    "out2 = widgets.Output()\n",
    "\n",
    "tab = widgets.Tab(children = [out1, out2])\n",
    "tab.set_title(0, 'Absolute Zahlen')\n",
    "tab.set_title(1, '7-Tage-Schnitt')\n",
    "display(tab)\n",
    "\n",
    "with out1:\n",
    "    fig, axes = plt.subplots()\n",
    "    day.plot.line(ax = axes, figsize = (12,7), grid = 'on',\n",
    "                  title = 'Fahrgastfrequenzen an der VBZ-Haltestelle Hardbrücke' )\n",
    "    axes.set_xlabel('')\n",
    "    axes.set_ylabel('Anzahl Personen pro Tag')\n",
    "    axes.set_ylim([0, 42000])\n",
    "    plt.show(fig)\n",
    "\n",
    "\n",
    "with out2:\n",
    "    fig, axes = plt.subplots()\n",
    "    day_7dmean.plot.line(ax = axes, figsize = (12,7), grid = 'on',\n",
    "                         title = 'Fahrgastfrequenzen an der VBZ-Haltestelle Hardbrücke (7-Tage-Schnitt)')\n",
    "\n",
    "    axes.set_xlabel('')\n",
    "    axes.set_ylabel('Anzahl Personen pro Tag (7-Tage-Schnitt)')\n",
    "    axes.set_ylim([0, 42000])\n",
    "    plt.show(fig)"
   ]
  },
  {
   "cell_type": "markdown",
   "metadata": {},
   "source": [
    "Die Massnahmen des Bundes zur Eindämmung der Covid-19 Pandemie im Frühling 2020 haben sich besonders stark auf die Frequenzen an der VBZ-Haltestelle Hardbrücke ausgewirkt. Die Sommerferien und die Festtage führen ebenfalls zu einem starken Rückgang der Frequenzen. Ein zusätzlicher Grund für die tieferen Zahlen im August 2020 ist der Ausfall des Sensors am östlichen Zugang zur S-Bahn Station. Auffällig ist auch, dass beim Zugang höhere Frequenzen gemessen werden als in die andere Richtung. Da es sich bei den Perrons jedoch um ein geschlossenes System handelt, sind diese Differenzen vermutlich auf Messfehler zurückzuführen.\n",
    "\n",
    "Um den Pendlerfluss an einem Werktag analysieren zu können, werden die Daten folgen so aufbereitet, dass für jeden Sensor die durchschnittlichen Pendlerflüsse für jede Stunde an einem Werktag visualisiert werden können. Dazu werden die Daten von den letzten 12 Monaten (Juni 2020 - Mai 2021) verwendet."
   ]
  },
  {
   "cell_type": "code",
   "execution_count": 7,
   "metadata": {},
   "outputs": [],
   "source": [
    "# Filtern nach Zeitraum (Juni 2020 - Mai 2021)\n",
    "last_12m = data.loc[lambda x: (x.Date_Time >= '2020-06') & (x.Date_Time < '2021-06')]\\\n",
    "               .reset_index(drop = True)\n",
    "\n",
    "# Filtern nach Wochentagen (Montag - Freitag)\n",
    "last_12m['weekday'] = last_12m.Date_Time.dt.weekday\n",
    "\n",
    "weekdays = last_12m.loc[lambda x: x.weekday < 5]\\\n",
    "                   .reset_index(drop = True)\\\n",
    "                   .drop(columns = ['weekday'])\n",
    "\n",
    "# Gruppieren und aggregieren nach Sensoren und Stunden\n",
    "wd_hour = weekdays.groupby('Name')\\\n",
    "                  .resample('H', on = 'Date_Time').sum()\\\n",
    "                  .reset_index(drop = False)\n",
    "wd_hour['time'] = wd_hour.Date_Time.dt.time\n",
    "hourly = wd_hour.groupby(['Name', 'time']).agg({'In': 'mean', 'Out': 'mean'})"
   ]
  },
  {
   "cell_type": "code",
   "execution_count": 8,
   "metadata": {},
   "outputs": [],
   "source": [
    "# Definieren der Plotfunktion\n",
    "def plot_barplot(df, out, sensor_name):\n",
    "    with out:\n",
    "        fig, axes = plt.subplots()\n",
    "        df.plot.bar(ax = axes, figsize = (12,7), grid = 'on',\n",
    "                      title = 'Durchschnittliche Fahrgastfrequenzen an einem Werktag (Juni 2020 - Mai 2021) ' + sensor_name )\n",
    "        axes.set_xlabel('Beginn der berücksichtigten Stunde')\n",
    "        axes.set_ylabel('Durchschnittliche Anzahl Person pro Stunde an einem Werktag')\n",
    "        axes.set_ylim([0, 550])\n",
    "        plt.show(fig)"
   ]
  },
  {
   "cell_type": "code",
   "execution_count": 9,
   "metadata": {
    "scrolled": true
   },
   "outputs": [
    {
     "data": {
      "application/vnd.jupyter.widget-view+json": {
       "model_id": "40270eab80824fb28f59b9e9809099a4",
       "version_major": 2,
       "version_minor": 0
      },
      "text/plain": [
       "Tab(children=(Output(), Output(), Output(), Output(), Output(), Output(), Output(), Output()), _titles={'0': '…"
      ]
     },
     "metadata": {},
     "output_type": "display_data"
    }
   ],
   "source": [
    "# Erstellen der Plots\n",
    "sensors = ['Ost-VBZ Total', 'West-VBZ total', 'Ost-SBB total', 'West-SBB total',\n",
    "           'Ost-Nord total', 'Ost-Süd total', 'West-Nord total', 'West-Süd total']\n",
    "\n",
    "out1 = widgets.Output()\n",
    "out2 = widgets.Output()\n",
    "out3 = widgets.Output()\n",
    "out4 = widgets.Output()\n",
    "out5 = widgets.Output()\n",
    "out6 = widgets.Output()\n",
    "out7 = widgets.Output()\n",
    "out8 = widgets.Output()\n",
    "outs = [out1, out2, out3, out4, out5, out6, out7, out8]\n",
    "\n",
    "tab = widgets.Tab(children = [out1, out2, out3, out4, out5, out6, out7, out8])\n",
    "for i in range(len(sensors)):\n",
    "    tab.set_title(i, sensors[i])\n",
    "display(tab)\n",
    "\n",
    "for i in range(len(sensors)):\n",
    "    plot_barplot(hourly.loc[sensors[i]], outs[i], sensors[i])"
   ]
  },
  {
   "cell_type": "markdown",
   "metadata": {},
   "source": [
    "Die Frequenzen der Zugänge von der Strasse an die Haltestelle sind verhältnissmässig tief. Daraus kann geschlossen werden, dass die VBZ-Haltestelle Hardbrücke primär zum Umsteigen auf die S-Bahn (oder umgekehrt) genutzt wird. Ausserdem kann aus den Visualisierungen abgelesen werden, dass mehr Personen das Tram in Richtung Escher-Wyss-Platz nutzen als in die entgegengesetzte Richtung. Insgesamt ist die Abendspitze stärker frequentiert als die Morgnspitze."
   ]
  },
  {
   "cell_type": "markdown",
   "metadata": {},
   "source": [
    "### Anhang: Plots ohne interaktive Elemente"
   ]
  },
  {
   "cell_type": "code",
   "execution_count": 10,
   "metadata": {},
   "outputs": [
    {
     "data": {
      "application/vnd.jupyter.widget-view+json": {
       "model_id": "237cfc00cf94412188e901063afcd861",
       "version_major": 2,
       "version_minor": 0
      },
      "text/plain": [
       "Canvas(toolbar=Toolbar(toolitems=[('Home', 'Reset original view', 'home', 'home'), ('Back', 'Back to previous …"
      ]
     },
     "metadata": {},
     "output_type": "display_data"
    }
   ],
   "source": [
    "fig, axes = plt.subplots()\n",
    "day.plot.line(ax = axes, figsize = (12,7), grid = 'on',\n",
    "              title = 'Fahrgastfrequenzen an der VBZ-Haltestelle Hardbrücke' )\n",
    "axes.set_xlabel('')\n",
    "axes.set_ylabel('Anzahl Personen pro Tag')\n",
    "axes.set_ylim([0, 42000])\n",
    "plt.show(fig)"
   ]
  },
  {
   "cell_type": "code",
   "execution_count": 11,
   "metadata": {},
   "outputs": [
    {
     "data": {
      "application/vnd.jupyter.widget-view+json": {
       "model_id": "2d81870c3f774cea873088fcd10091ea",
       "version_major": 2,
       "version_minor": 0
      },
      "text/plain": [
       "Canvas(toolbar=Toolbar(toolitems=[('Home', 'Reset original view', 'home', 'home'), ('Back', 'Back to previous …"
      ]
     },
     "metadata": {},
     "output_type": "display_data"
    }
   ],
   "source": [
    "fig, axes = plt.subplots()\n",
    "day_7dmean.plot.line(ax = axes, figsize = (12,7), grid = 'on',\n",
    "                     title = 'Fahrgastfrequenzen an der VBZ-Haltestelle Hardbrücke (7-Tage-Schnitt)')\n",
    "\n",
    "axes.set_xlabel('')\n",
    "axes.set_ylabel('Anzahl Personen pro Tag (7-Tage-Schnitt)')\n",
    "axes.set_ylim([0, 42000])\n",
    "plt.show(fig)"
   ]
  },
  {
   "cell_type": "code",
   "execution_count": 12,
   "metadata": {},
   "outputs": [
    {
     "data": {
      "application/vnd.jupyter.widget-view+json": {
       "model_id": "4dc54251bc01408b83889433d2883a4c",
       "version_major": 2,
       "version_minor": 0
      },
      "text/plain": [
       "Canvas(toolbar=Toolbar(toolitems=[('Home', 'Reset original view', 'home', 'home'), ('Back', 'Back to previous …"
      ]
     },
     "metadata": {},
     "output_type": "display_data"
    },
    {
     "data": {
      "application/vnd.jupyter.widget-view+json": {
       "model_id": "29594dd2166741879437e2b0c875fa31",
       "version_major": 2,
       "version_minor": 0
      },
      "text/plain": [
       "Canvas(toolbar=Toolbar(toolitems=[('Home', 'Reset original view', 'home', 'home'), ('Back', 'Back to previous …"
      ]
     },
     "metadata": {},
     "output_type": "display_data"
    },
    {
     "data": {
      "application/vnd.jupyter.widget-view+json": {
       "model_id": "589a946dd4f14fe5b34a134f608d5f7a",
       "version_major": 2,
       "version_minor": 0
      },
      "text/plain": [
       "Canvas(toolbar=Toolbar(toolitems=[('Home', 'Reset original view', 'home', 'home'), ('Back', 'Back to previous …"
      ]
     },
     "metadata": {},
     "output_type": "display_data"
    },
    {
     "data": {
      "application/vnd.jupyter.widget-view+json": {
       "model_id": "c45239f894ff44e3803ac39a034770b9",
       "version_major": 2,
       "version_minor": 0
      },
      "text/plain": [
       "Canvas(toolbar=Toolbar(toolitems=[('Home', 'Reset original view', 'home', 'home'), ('Back', 'Back to previous …"
      ]
     },
     "metadata": {},
     "output_type": "display_data"
    },
    {
     "data": {
      "application/vnd.jupyter.widget-view+json": {
       "model_id": "a00008003a4443758899b75ccd700836",
       "version_major": 2,
       "version_minor": 0
      },
      "text/plain": [
       "Canvas(toolbar=Toolbar(toolitems=[('Home', 'Reset original view', 'home', 'home'), ('Back', 'Back to previous …"
      ]
     },
     "metadata": {},
     "output_type": "display_data"
    },
    {
     "data": {
      "application/vnd.jupyter.widget-view+json": {
       "model_id": "532aba66c3c5472c90e55f8398b9dc1a",
       "version_major": 2,
       "version_minor": 0
      },
      "text/plain": [
       "Canvas(toolbar=Toolbar(toolitems=[('Home', 'Reset original view', 'home', 'home'), ('Back', 'Back to previous …"
      ]
     },
     "metadata": {},
     "output_type": "display_data"
    },
    {
     "data": {
      "application/vnd.jupyter.widget-view+json": {
       "model_id": "636b2092677a467592596a9fb7aa1e84",
       "version_major": 2,
       "version_minor": 0
      },
      "text/plain": [
       "Canvas(toolbar=Toolbar(toolitems=[('Home', 'Reset original view', 'home', 'home'), ('Back', 'Back to previous …"
      ]
     },
     "metadata": {},
     "output_type": "display_data"
    },
    {
     "data": {
      "application/vnd.jupyter.widget-view+json": {
       "model_id": "a07c4d1a24a64779bdd551f5f67dc43d",
       "version_major": 2,
       "version_minor": 0
      },
      "text/plain": [
       "Canvas(toolbar=Toolbar(toolitems=[('Home', 'Reset original view', 'home', 'home'), ('Back', 'Back to previous …"
      ]
     },
     "metadata": {},
     "output_type": "display_data"
    }
   ],
   "source": [
    "# Definieren der Plotfunktion\n",
    "def plot_barplot_raw(df, out, sensor_name):\n",
    "    fig, axes = plt.subplots()\n",
    "    df.plot.bar(ax = axes, figsize = (12,7), grid = 'on',\n",
    "                  title = 'Durchschnittliche Fahrgastfrequenzen an einem Werktag (Juni 2020 - Mai 2021) ' + sensor_name )\n",
    "    axes.set_xlabel('Beginn der berücksichtigten Stunde')\n",
    "    axes.set_ylabel('Durchschnittliche Anzahl Person pro Stunde an einem Werktag')\n",
    "    axes.set_ylim([0, 550])\n",
    "    plt.show(fig)\n",
    "    \n",
    "for i in range(len(sensors)):\n",
    "    plot_barplot_raw(hourly.loc[sensors[i]], outs[i], sensors[i])"
   ]
  }
 ],
 "metadata": {
  "kernelspec": {
   "display_name": "Python 3",
   "language": "python",
   "name": "python3"
  },
  "language_info": {
   "codemirror_mode": {
    "name": "ipython",
    "version": 3
   },
   "file_extension": ".py",
   "mimetype": "text/x-python",
   "name": "python",
   "nbconvert_exporter": "python",
   "pygments_lexer": "ipython3",
   "version": "3.7.5"
  }
 },
 "nbformat": 4,
 "nbformat_minor": 2
}
